{
 "cells": [
  {
   "cell_type": "code",
   "execution_count": 8,
   "id": "31ffc9ed-2926-48d4-9481-b18582831416",
   "metadata": {},
   "outputs": [],
   "source": [
    "from bs4 import BeautifulSoup\n",
    "import requests\n",
    "import pandas as pd\n",
    "import numpy as np\n",
    "from collections import defaultdict\n"
   ]
  },
  {
   "cell_type": "markdown",
   "id": "7f0f6f27-2c13-4969-af09-6abbef75cba6",
   "metadata": {},
   "source": [
    "# 1. Collect data"
   ]
  },
  {
   "cell_type": "markdown",
   "id": "3c0a6b5d-4782-43fa-aa2e-821528c62571",
   "metadata": {},
   "source": [
    "# 1.1 Scrape main website"
   ]
  },
  {
   "cell_type": "code",
   "execution_count": 9,
   "id": "79ef03a6-8297-4e45-a05b-bb77e4730443",
   "metadata": {},
   "outputs": [],
   "source": [
    "url = \"https://www.jumbo.com/producten/\"\n",
    "\n",
    "headers = {\n",
    "    \"User-Agent\": \"Mozilla/5.0 (Windows NT 10.0; Win64; x64) AppleWebKit/537.36 (KHTML, like Gecko) Chrome/58.0.3029.110 Safari/537.3\"\n",
    "}\n",
    "\n",
    "response = requests.get(url, headers=headers)\n",
    "if response.status_code == 200:\n",
    "    soup = BeautifulSoup(response.text, 'html.parser')\n",
    "else:\n",
    "    print(f\"Failed to retrieve content: {response.status_code}\")"
   ]
  },
  {
   "cell_type": "markdown",
   "id": "498d3c81-c06f-48e8-8140-9d16eb54288b",
   "metadata": {},
   "source": [
    "## 1.2 Look for all product categories "
   ]
  },
  {
   "cell_type": "code",
   "execution_count": 10,
   "id": "f56dfb03-4733-4699-9cc7-4dcf81348576",
   "metadata": {},
   "outputs": [],
   "source": [
    "jum_list = soup.find('ul', class_='jum-list unstyled facet-list')\n",
    "hrefs = [a['href'] for a in jum_list.find_all('a')]\n"
   ]
  },
  {
   "cell_type": "code",
   "execution_count": null,
   "id": "b5ebe0c6-138f-49e1-8ef6-29ceb4db00b2",
   "metadata": {},
   "outputs": [],
   "source": []
  },
  {
   "cell_type": "code",
   "execution_count": 7,
   "id": "b799faab-9eb4-42f3-9cd1-86aee6554bc5",
   "metadata": {},
   "outputs": [
    {
     "name": "stdout",
     "output_type": "stream",
     "text": [
      "Text: Jumbo Kip Krokant Schnitzels 6 Stuks, URL: /producten/jumbo-kip-krokant-schnitzels-6-stuks-514988BAK\n",
      "Text: Jumbo Classic Burger Rundvlees 8 Stuks, URL: /producten/jumbo-classic-burger-rundvlees-8-stuks-187236BAK\n",
      "Text: Garden Gourmet Spinazie-Kaas Rondo 180g, URL: /producten/garden-gourmet-spinazie-kaas-rondo-180g-513761TRA\n",
      "Text: Jumbo Scharrelkip Filetblokjes 600g, URL: /producten/jumbo-scharrelkip-filetblokjes-600g-515014BAK\n",
      "Text: Jumbo Rundergehakt Voordeelverpakking 1KG, URL: /producten/jumbo-rundergehakt-voordeelverpakking-1kg-629761TRA\n",
      "Text: Valess Vegetarische Gouda Schnitzel 2 Stuks 180g, URL: /producten/valess-vegetarische-gouda-schnitzel-2-stuks-180g-185051STK\n",
      "Text: Jumbo Slavinken 5 Stuks, URL: /producten/jumbo-slavinken-5-stuks-201484TRA\n",
      "Text: Jumbo Scharrelkip Filet 3 Stuks ca. 600g, URL: /producten/jumbo-scharrelkip-filet-3-stuks-ca-600g-515106KGR\n",
      "Text: Beyond Burger Original Plantaardige Burgers 2 x 113g, URL: /producten/beyond-burger-original-plantaardige-burgers-2-x-113g-404827STK\n",
      "Text: Jumbo Shoarma 900g, URL: /producten/jumbo-shoarma-900g-262023BAK\n",
      "Text: Jumbo Rundergehakt 500g, URL: /producten/jumbo-rundergehakt-500g-131278BAK\n",
      "Text: Jumbo Rund & Varken Slagersgehaktbal 8 Stuks, URL: /producten/jumbo-rund-varken-slagersgehaktbal-8-stuks-213591BAK\n",
      "Text: Jumbo Varken Saucijs 10 Stuks 800g, URL: /producten/jumbo-varken-saucijs-10-stuks-800g-163322TRA\n",
      "Text: Jumbo Zigeuner Gehaktschnitzel 5 Stuks, URL: /producten/jumbo-zigeuner-gehaktschnitzel-5-stuks-214157BAK\n",
      "Text: Jumbo Gemengd Gehakt 1KG, URL: /producten/jumbo-gemengd-gehakt-1kg-180843BAK\n",
      "Text: Spekreepjes Gerookt 300g, URL: /producten/spekreepjes-gerookt-300g-640593PAK\n",
      "Text: Jumbo Scharrelkip Filet 2 Stuks, URL: /producten/jumbo-scharrelkip-filet-2-stuks-596700KGR\n",
      "Text: Jumbo Varken Speklappen 6 Stuks, URL: /producten/jumbo-varken-speklappen-6-stuks-624597TRA\n",
      "Text: Jumbo Scharrelkip Kippendijfilet 750g, URL: /producten/jumbo-scharrelkip-kippendijfilet-750g-515052TRA\n",
      "Text: Jumbo Scharrelkip Cordon Bleu 5 Stuks, URL: /producten/jumbo-scharrelkip-cordon-bleu-5-stuks-514991BAK\n",
      "Text: Jumbo Scharrelkip Filetblokjes ca. 350g, URL: /producten/jumbo-scharrelkip-filetblokjes-ca-350g-579687KGR\n",
      "Text: Jumbo Gemengd Gehakt 500g, URL: /producten/jumbo-gemengd-gehakt-500g-87858BAK\n",
      "Text: Jumbo Scharrelkip Drumsticks Gekruid ca. 1170g, URL: /producten/jumbo-scharrelkip-drumsticks-gekruid-ca-1170g-515088KGR\n",
      "Text: Jumbo Nederlands Mager Rundergehakt 850g, URL: /producten/jumbo-nederlands-mager-rundergehakt-850g-412062BAK\n",
      "Text: Jumbo Gemengd Gehakt Gekruid 1KG, URL: /producten/jumbo-gemengd-gehakt-gekruid-1kg-180844BAK\n",
      "Text: Jumbo Mosselen Super 2kg, URL: /producten/jumbo-mosselen-super-2kg-209075BAK\n",
      "Text: Jumbo Filetlap à la Minute Paprika Peper 4 Stuks, URL: /producten/jumbo-filetlap-a-la-minute-paprika-peper-4-stuks-190960PAK\n"
     ]
    }
   ],
   "source": [
    "title_links = soup.find_all('a', class_='title-link')\n",
    "\n",
    "for link in title_links:\n",
    "    print(f\"Text: {link.text}, URL: {link['href']}\")"
   ]
  },
  {
   "cell_type": "code",
   "execution_count": null,
   "id": "941ffe09-329d-4481-bcc0-67581472164f",
   "metadata": {},
   "outputs": [],
   "source": []
  }
 ],
 "metadata": {
  "kernelspec": {
   "display_name": "Python 3 (ipykernel)",
   "language": "python",
   "name": "python3"
  },
  "language_info": {
   "codemirror_mode": {
    "name": "ipython",
    "version": 3
   },
   "file_extension": ".py",
   "mimetype": "text/x-python",
   "name": "python",
   "nbconvert_exporter": "python",
   "pygments_lexer": "ipython3",
   "version": "3.12.5"
  }
 },
 "nbformat": 4,
 "nbformat_minor": 5
}
